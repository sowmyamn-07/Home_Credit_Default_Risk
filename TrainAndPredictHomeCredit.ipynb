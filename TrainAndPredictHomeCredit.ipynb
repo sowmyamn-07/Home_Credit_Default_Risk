{
 "cells": [
  {
   "cell_type": "code",
   "execution_count": 1,
   "metadata": {},
   "outputs": [],
   "source": [
    "import numpy as np # linear algebra\n",
    "import pandas as pd # data processing, CSV file I/O (e.g. pd.read_csv)\n",
    "import gc\n",
    "from sklearn.model_selection import train_test_split\n",
    "%matplotlib inline"
   ]
  },
  {
   "cell_type": "code",
   "execution_count": 2,
   "metadata": {},
   "outputs": [
    {
     "name": "stdout",
     "output_type": "stream",
     "text": [
      "(307511, 199)\n"
     ]
    }
   ],
   "source": [
    "#Reading training data\n",
    "train=pd.read_csv('MergedData/merged_data_train.csv')\n",
    "print(train.shape)"
   ]
  },
  {
   "cell_type": "code",
   "execution_count": 3,
   "metadata": {},
   "outputs": [
    {
     "name": "stdout",
     "output_type": "stream",
     "text": [
      "        Unnamed: 0  SK_ID_CURR  TARGET NAME_CONTRACT_TYPE CODE_GENDER  \\\n",
      "64282        64282      174545       1         Cash loans           F   \n",
      "94645        94645      209898       0         Cash loans           M   \n",
      "306349      306349      454938       0         Cash loans           M   \n",
      "258314      258314      398930       0         Cash loans           M   \n",
      "87597        87597      201672       0         Cash loans           M   \n",
      "\n",
      "       FLAG_OWN_CAR FLAG_OWN_REALTY  CNT_CHILDREN  AMT_INCOME_TOTAL  \\\n",
      "64282             N               Y             0          135000.0   \n",
      "94645             Y               Y             0          135000.0   \n",
      "306349            Y               Y             0          112500.0   \n",
      "258314            Y               N             0          247500.0   \n",
      "87597             N               Y             0          202500.0   \n",
      "\n",
      "        AMT_CREDIT_x          ...            CNT_INSTALMENT_MATURE_CUM  \\\n",
      "64282       654498.0          ...                                  NaN   \n",
      "94645       234576.0          ...                                  NaN   \n",
      "306349      157914.0          ...                                  NaN   \n",
      "258314     1125000.0          ...                                  NaN   \n",
      "87597       900000.0          ...                              16.2809   \n",
      "\n",
      "        MONTHS_BALANCE__ AMT_BALANCE CNT_PAYMENT size:__  \\\n",
      "64282                NaN         NaN   24.000000   11.25   \n",
      "94645                NaN         NaN   12.000000   12.00   \n",
      "306349               NaN         NaN    6.000000    2.00   \n",
      "258314               NaN         NaN    9.500000   10.50   \n",
      "87597              -47.5   17390.764    8.666667   11.00   \n",
      "\n",
      "       HOUR_APPR_PROCESS_START_y SK_DPD_balance  NUM_INSTALMENT_VERSION  \\\n",
      "64282                  12.500000       0.026316                1.000000   \n",
      "94645                  16.000000       0.000000                1.000000   \n",
      "306349                 12.000000       0.000000                2.000000   \n",
      "258314                 18.750000       0.000000                1.000000   \n",
      "87597                  13.833333       0.000000                0.722222   \n",
      "\n",
      "        RATE_DOWN_PAYMENT  RATE_INTEREST_PRIMARY  \n",
      "64282            0.000000                    NaN  \n",
      "94645            0.217839                    NaN  \n",
      "306349                NaN                    NaN  \n",
      "258314           0.143680                    NaN  \n",
      "87597            0.066820                    NaN  \n",
      "\n",
      "[5 rows x 199 columns]\n",
      "(30751, 199)\n"
     ]
    }
   ],
   "source": [
    "#As size of the data is huge, considering only 10% of data\n",
    "train = train.sample(frac = 0.1, random_state= 1)\n",
    "\n",
    "print(train.head())\n",
    "print(train.shape)"
   ]
  },
  {
   "cell_type": "code",
   "execution_count": 4,
   "metadata": {},
   "outputs": [
    {
     "name": "stdout",
     "output_type": "stream",
     "text": [
      "(48744, 198)\n"
     ]
    }
   ],
   "source": [
    "#Reading testing data\n",
    "test=pd.read_csv('MergedData/merged_data_test.csv')\n",
    "print(test.shape)"
   ]
  },
  {
   "cell_type": "code",
   "execution_count": 5,
   "metadata": {},
   "outputs": [],
   "source": [
    "#Convert categorical variable into dummy/indicator variables \n",
    "from sklearn import preprocessing\n",
    "categorical_feats = [\n",
    "    f for f in train.columns if train[f].dtype == 'object'\n",
    "]\n",
    "\n",
    "for col in categorical_feats:\n",
    "    lb = preprocessing.LabelEncoder()\n",
    "    lb.fit(list(train[col].values.astype('str')) + list(test[col].values.astype('str')))\n",
    "    train[col] = lb.transform(list(train[col].values.astype('str')))\n",
    "    test[col] = lb.transform(list(test[col].values.astype('str')))"
   ]
  },
  {
   "cell_type": "code",
   "execution_count": 6,
   "metadata": {},
   "outputs": [],
   "source": [
    "#Fill NA/NaN values using the specified method\n",
    "train.fillna(-999, inplace = True)"
   ]
  },
  {
   "cell_type": "code",
   "execution_count": 7,
   "metadata": {},
   "outputs": [
    {
     "name": "stdout",
     "output_type": "stream",
     "text": [
      "(30751, 197)\n",
      "30751\n"
     ]
    }
   ],
   "source": [
    "#Extracting features and label\n",
    "features = train.drop(['SK_ID_CURR', 'TARGET'],axis=1).columns.values\n",
    "label = \"TARGET\"\n",
    "\n",
    "x=train[features]\n",
    "y=train[label]\n",
    "\n",
    "print(x.shape)\n",
    "print(y.size)"
   ]
  },
  {
   "cell_type": "code",
   "execution_count": 8,
   "metadata": {},
   "outputs": [
    {
     "name": "stderr",
     "output_type": "stream",
     "text": [
      "D:\\Users\\850024011\\AppData\\Local\\Continuum\\anaconda3\\lib\\site-packages\\sklearn\\cross_validation.py:41: DeprecationWarning: This module was deprecated in version 0.18 in favor of the model_selection module into which all the refactored classes and functions are moved. Also note that the interface of the new CV iterators are different from that of this module. This module will be removed in 0.20.\n",
      "  \"This module will be removed in 0.20.\", DeprecationWarning)\n"
     ]
    }
   ],
   "source": [
    "#Split training and test data\n",
    "from sklearn.cross_validation import train_test_split\n",
    "X_train, X_test, y_train, y_test = train_test_split(x, y, test_size = 1/3, random_state = 0)"
   ]
  },
  {
   "cell_type": "code",
   "execution_count": 9,
   "metadata": {},
   "outputs": [
    {
     "name": "stdout",
     "output_type": "stream",
     "text": [
      "[0 0 0 ... 0 0 0]\n"
     ]
    }
   ],
   "source": [
    "#Using RandonForestClassifier to train the model\n",
    "from sklearn.ensemble import RandomForestClassifier\n",
    "randonForestAlgo = RandomForestClassifier(n_estimators=20)\n",
    "randonForestAlgo.fit(X_train,y_train)\n",
    "predictionAlgo = randonForestAlgo.predict(X_test)\n",
    "print(predictionAlgo)"
   ]
  },
  {
   "cell_type": "code",
   "execution_count": 10,
   "metadata": {},
   "outputs": [
    {
     "name": "stdout",
     "output_type": "stream",
     "text": [
      "[[9401  847]\n",
      " [   1    2]]\n"
     ]
    }
   ],
   "source": [
    "#Compare predictions between the actual result and the algorithm prediction\n",
    "from sklearn.metrics import confusion_matrix\n",
    "confusion_matrix = confusion_matrix(predictionAlgo, y_test)\n",
    "print(confusion_matrix)  "
   ]
  },
  {
   "cell_type": "code",
   "execution_count": 11,
   "metadata": {},
   "outputs": [
    {
     "name": "stdout",
     "output_type": "stream",
     "text": [
      "[[9399  849]\n",
      " [   3    0]]\n"
     ]
    }
   ],
   "source": [
    "#Using LogisticRegression to train the model\n",
    "from sklearn.linear_model import LogisticRegression\n",
    "lr = LogisticRegression().fit(X_train, y_train)\n",
    "\n",
    "y_predict = lr.predict(X_test)\n",
    "\n",
    "from sklearn.metrics import confusion_matrix\n",
    "confusion_matrix = confusion_matrix(y_predict, y_test)\n",
    "print(confusion_matrix)"
   ]
  },
  {
   "cell_type": "code",
   "execution_count": 12,
   "metadata": {},
   "outputs": [],
   "source": [
    "#Fill NA/NaN values using the specified method\n",
    "test.fillna(-999, inplace = True)"
   ]
  },
  {
   "cell_type": "code",
   "execution_count": 13,
   "metadata": {},
   "outputs": [
    {
     "name": "stdout",
     "output_type": "stream",
     "text": [
      "(48744, 197)\n"
     ]
    }
   ],
   "source": [
    "#Extracting features and label\n",
    "testColumns = test.columns.tolist()\n",
    "\n",
    "testFeatures = [c for c in testColumns if c not in [\"SK_ID_CURR\"]]\n",
    "x_test=test[testFeatures]\n",
    "print(x_test.shape)"
   ]
  },
  {
   "cell_type": "code",
   "execution_count": 14,
   "metadata": {},
   "outputs": [],
   "source": [
    "#predict for the actual test data\n",
    "testPredict = randonForestAlgo.predict(x_test)"
   ]
  },
  {
   "cell_type": "code",
   "execution_count": 15,
   "metadata": {},
   "outputs": [],
   "source": [
    "# Concatenate the SK_ID_CURR, actual test data and the predicted target\n",
    "result = np.column_stack((test[\"SK_ID_CURR\"],x_test, testPredict))\n",
    "resultDataframe = pd.DataFrame(data=result)"
   ]
  },
  {
   "cell_type": "code",
   "execution_count": 16,
   "metadata": {},
   "outputs": [
    {
     "name": "stdout",
     "output_type": "stream",
     "text": [
      "(48744, 199)\n"
     ]
    }
   ],
   "source": [
    "#Save the final data with the predictions\n",
    "print(resultDataframe.shape)\n",
    "resultDataframe.to_csv('final_prediction.csv')"
   ]
  }
 ],
 "metadata": {
  "kernelspec": {
   "display_name": "Python 3",
   "language": "python",
   "name": "python3"
  },
  "language_info": {
   "codemirror_mode": {
    "name": "ipython",
    "version": 3
   },
   "file_extension": ".py",
   "mimetype": "text/x-python",
   "name": "python",
   "nbconvert_exporter": "python",
   "pygments_lexer": "ipython3",
   "version": "3.6.5"
  }
 },
 "nbformat": 4,
 "nbformat_minor": 2
}
